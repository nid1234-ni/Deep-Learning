{
  "nbformat": 4,
  "nbformat_minor": 0,
  "metadata": {
    "colab": {
      "name": "Untitled1.ipynb",
      "provenance": [],
      "authorship_tag": "ABX9TyO0E0iY9YUSaw0P3k+Ksgkw",
      "include_colab_link": true
    },
    "kernelspec": {
      "name": "python3",
      "display_name": "Python 3"
    },
    "language_info": {
      "name": "python"
    },
    "accelerator": "GPU"
  },
  "cells": [
    {
      "cell_type": "markdown",
      "metadata": {
        "id": "view-in-github",
        "colab_type": "text"
      },
      "source": [
        "<a href=\"https://colab.research.google.com/github/nid1234-ni/Deep-Learning/blob/main/NLP%201.ipynb\" target=\"_parent\"><img src=\"https://colab.research.google.com/assets/colab-badge.svg\" alt=\"Open In Colab\"/></a>"
      ]
    },
    {
      "cell_type": "code",
      "metadata": {
        "colab": {
          "base_uri": "https://localhost:8080/"
        },
        "id": "b5Kh2J1kb7HF",
        "outputId": "5d610ec5-c080-4cc4-ccca-2b5f546ff38c"
      },
      "source": [
        "1+1"
      ],
      "execution_count": 1,
      "outputs": [
        {
          "output_type": "execute_result",
          "data": {
            "text/plain": [
              "2"
            ]
          },
          "metadata": {
            "tags": []
          },
          "execution_count": 1
        }
      ]
    },
    {
      "cell_type": "code",
      "metadata": {
        "colab": {
          "base_uri": "https://localhost:8080/"
        },
        "id": "3zqPlLCncGIJ",
        "outputId": "966dc4fa-904a-45bc-b2a1-b78de6225a63"
      },
      "source": [
        "test_tup1 = (10, 4, 5, 6) \n",
        "test_tup2 = (5, 6, 7, 5) \n",
        "  \n",
        "# printing original tuples \n",
        "print(\"The original tuple 1 : \" + str(test_tup1)) \n",
        "print(\"The original tuple 2 : \" + str(test_tup2)) \n",
        "  \n",
        "# Tuple exponentiation \n",
        "# using zip() + generator expression \n",
        "res = tuple(ele1 ** ele2 for ele1, ele2 in zip(test_tup1, test_tup2)) \n",
        "  \n",
        "# printing result \n",
        "print(\"The exponentiated tuple : \" + str(res)) "
      ],
      "execution_count": 2,
      "outputs": [
        {
          "output_type": "stream",
          "text": [
            "The original tuple 1 : (10, 4, 5, 6)\n",
            "The original tuple 2 : (5, 6, 7, 5)\n",
            "The exponentiated tuple : (100000, 4096, 78125, 7776)\n"
          ],
          "name": "stdout"
        }
      ]
    },
    {
      "cell_type": "code",
      "metadata": {
        "id": "T3NtEzxTcR24"
      },
      "source": [
        "a=1\n"
      ],
      "execution_count": 3,
      "outputs": []
    },
    {
      "cell_type": "code",
      "metadata": {
        "colab": {
          "base_uri": "https://localhost:8080/"
        },
        "id": "S99xDyhxcR6Z",
        "outputId": "aa270440-5b22-4469-c6a8-a1c1eec437c1"
      },
      "source": [
        "a"
      ],
      "execution_count": 4,
      "outputs": [
        {
          "output_type": "execute_result",
          "data": {
            "text/plain": [
              "1"
            ]
          },
          "metadata": {
            "tags": []
          },
          "execution_count": 4
        }
      ]
    },
    {
      "cell_type": "code",
      "metadata": {
        "colab": {
          "base_uri": "https://localhost:8080/"
        },
        "id": "qMOHJ5twcR9o",
        "outputId": "59a05eb3-3c55-46c3-87f7-8e3c1b887f8e"
      },
      "source": [
        "type(a)"
      ],
      "execution_count": 5,
      "outputs": [
        {
          "output_type": "execute_result",
          "data": {
            "text/plain": [
              "int"
            ]
          },
          "metadata": {
            "tags": []
          },
          "execution_count": 5
        }
      ]
    },
    {
      "cell_type": "code",
      "metadata": {
        "id": "qAHH87M7cSAg"
      },
      "source": [
        "nidhi = 89"
      ],
      "execution_count": 6,
      "outputs": []
    },
    {
      "cell_type": "code",
      "metadata": {
        "id": "ERTxa3ZBcSDR"
      },
      "source": [
        ""
      ],
      "execution_count": null,
      "outputs": []
    },
    {
      "cell_type": "code",
      "metadata": {
        "colab": {
          "base_uri": "https://localhost:8080/"
        },
        "id": "1v26J8HzcSF8",
        "outputId": "1c4406d3-e8ce-45ca-fb34-31757d1640d2"
      },
      "source": [
        "print(nidhi)"
      ],
      "execution_count": 7,
      "outputs": [
        {
          "output_type": "stream",
          "text": [
            "89\n"
          ],
          "name": "stdout"
        }
      ]
    },
    {
      "cell_type": "code",
      "metadata": {
        "colab": {
          "base_uri": "https://localhost:8080/"
        },
        "id": "cdm9tZfOcSI4",
        "outputId": "92e9c04e-8260-40c4-916b-d13e36ce9346"
      },
      "source": [
        "type(nidhi)"
      ],
      "execution_count": 8,
      "outputs": [
        {
          "output_type": "execute_result",
          "data": {
            "text/plain": [
              "int"
            ]
          },
          "metadata": {
            "tags": []
          },
          "execution_count": 8
        }
      ]
    },
    {
      "cell_type": "code",
      "metadata": {
        "colab": {
          "base_uri": "https://localhost:8080/"
        },
        "id": "Sqs-lHwLcSLg",
        "outputId": "321763a0-d84c-4e02-dd55-2ff898d4fef7"
      },
      "source": [
        "type(print(nidhi))"
      ],
      "execution_count": 9,
      "outputs": [
        {
          "output_type": "stream",
          "text": [
            "89\n"
          ],
          "name": "stdout"
        },
        {
          "output_type": "execute_result",
          "data": {
            "text/plain": [
              "NoneType"
            ]
          },
          "metadata": {
            "tags": []
          },
          "execution_count": 9
        }
      ]
    },
    {
      "cell_type": "code",
      "metadata": {
        "id": "eMHGBmXscSUw"
      },
      "source": [
        "b  = 'jdzhfgjshdfgj'"
      ],
      "execution_count": 16,
      "outputs": []
    },
    {
      "cell_type": "code",
      "metadata": {
        "colab": {
          "base_uri": "https://localhost:8080/"
        },
        "id": "faWwtxTDhadb",
        "outputId": "d4b68da7-82e3-410d-e9ae-bfa53e256bc7"
      },
      "source": [
        "type(b)"
      ],
      "execution_count": 17,
      "outputs": [
        {
          "output_type": "execute_result",
          "data": {
            "text/plain": [
              "str"
            ]
          },
          "metadata": {
            "tags": []
          },
          "execution_count": 17
        }
      ]
    },
    {
      "cell_type": "code",
      "metadata": {
        "id": "HfZwhpjGhahs"
      },
      "source": [
        "b = 6.7"
      ],
      "execution_count": 18,
      "outputs": []
    },
    {
      "cell_type": "code",
      "metadata": {
        "colab": {
          "base_uri": "https://localhost:8080/"
        },
        "id": "X3wrqlvshak9",
        "outputId": "672f232b-c45b-4d07-cabe-2c118b48f2e4"
      },
      "source": [
        "type(b)"
      ],
      "execution_count": 19,
      "outputs": [
        {
          "output_type": "execute_result",
          "data": {
            "text/plain": [
              "float"
            ]
          },
          "metadata": {
            "tags": []
          },
          "execution_count": 19
        }
      ]
    },
    {
      "cell_type": "code",
      "metadata": {
        "colab": {
          "base_uri": "https://localhost:8080/"
        },
        "id": "Jkpn6958haom",
        "outputId": "d7864a4a-d232-4c52-f837-3f621c87f50e"
      },
      "source": [
        "type(b)"
      ],
      "execution_count": 20,
      "outputs": [
        {
          "output_type": "execute_result",
          "data": {
            "text/plain": [
              "float"
            ]
          },
          "metadata": {
            "tags": []
          },
          "execution_count": 20
        }
      ]
    },
    {
      "cell_type": "code",
      "metadata": {
        "colab": {
          "base_uri": "https://localhost:8080/"
        },
        "id": "bNOWEqSiharc",
        "outputId": "daf187ba-cdfe-4d9b-d131-5258751488fc"
      },
      "source": [
        "c = True\n",
        "type(c)"
      ],
      "execution_count": 24,
      "outputs": [
        {
          "output_type": "execute_result",
          "data": {
            "text/plain": [
              "bool"
            ]
          },
          "metadata": {
            "tags": []
          },
          "execution_count": 24
        }
      ]
    },
    {
      "cell_type": "code",
      "metadata": {
        "id": "LPM_gZ6thati"
      },
      "source": [
        "c = 7+6j"
      ],
      "execution_count": 28,
      "outputs": []
    },
    {
      "cell_type": "code",
      "metadata": {
        "colab": {
          "base_uri": "https://localhost:8080/"
        },
        "id": "gykpTc5Yhawl",
        "outputId": "b12ed6e3-cdb2-433b-c303-86303b7f2cd6"
      },
      "source": [
        "type(c)"
      ],
      "execution_count": 29,
      "outputs": [
        {
          "output_type": "execute_result",
          "data": {
            "text/plain": [
              "complex"
            ]
          },
          "metadata": {
            "tags": []
          },
          "execution_count": 29
        }
      ]
    },
    {
      "cell_type": "code",
      "metadata": {
        "colab": {
          "base_uri": "https://localhost:8080/"
        },
        "id": "Xb6WZT0rkDYk",
        "outputId": "28fe3db7-dfdb-40d6-f843-163a1df6c852"
      },
      "source": [
        "i = 10 \n",
        "if (i < 5) & (i ==10):\n",
        "  print(\"this is a valid statement\")\n",
        "elif i == 10:\n",
        "  print(\"thsi is a valid statement in elf\")\n",
        "else:\n",
        "   pass\n",
        " "
      ],
      "execution_count": 34,
      "outputs": [
        {
          "output_type": "stream",
          "text": [
            "thsi is a valid statement in elf\n"
          ],
          "name": "stdout"
        }
      ]
    },
    {
      "cell_type": "code",
      "metadata": {
        "id": "oztILgYskDdI"
      },
      "source": [
        "l = [1,2,3,4,5,6,\"sudh\",\"kumar\",\"xyz\"]"
      ],
      "execution_count": 55,
      "outputs": []
    },
    {
      "cell_type": "code",
      "metadata": {
        "colab": {
          "base_uri": "https://localhost:8080/"
        },
        "id": "vlbgIs0skDhL",
        "outputId": "aae1a1cb-a6b4-4ed0-ba5e-25342bb70345"
      },
      "source": [
        "l"
      ],
      "execution_count": 56,
      "outputs": [
        {
          "output_type": "execute_result",
          "data": {
            "text/plain": [
              "[1, 2, 3, 4, 5, 6, 'sudh', 'kumar', 'xyz']"
            ]
          },
          "metadata": {
            "tags": []
          },
          "execution_count": 56
        }
      ]
    },
    {
      "cell_type": "code",
      "metadata": {
        "colab": {
          "base_uri": "https://localhost:8080/"
        },
        "id": "YAJ6ZfMykDkA",
        "outputId": "8abdb378-0652-42d0-fbd8-8c6065ec334e"
      },
      "source": [
        "l[::2]"
      ],
      "execution_count": 57,
      "outputs": [
        {
          "output_type": "execute_result",
          "data": {
            "text/plain": [
              "[1, 3, 5, 'sudh', 'xyz']"
            ]
          },
          "metadata": {
            "tags": []
          },
          "execution_count": 57
        }
      ]
    },
    {
      "cell_type": "code",
      "metadata": {
        "id": "NWViDdnXkD44"
      },
      "source": [
        "l = []\n",
        "for i in l:\n",
        "  if type(i) ==int:\n",
        "   l.append(i)"
      ],
      "execution_count": 58,
      "outputs": []
    },
    {
      "cell_type": "code",
      "metadata": {
        "colab": {
          "base_uri": "https://localhost:8080/"
        },
        "id": "Z2Qgj4ipon_P",
        "outputId": "e148cddb-e402-4d17-de20-081d3b64a302"
      },
      "source": [
        "l"
      ],
      "execution_count": 59,
      "outputs": [
        {
          "output_type": "execute_result",
          "data": {
            "text/plain": [
              "[]"
            ]
          },
          "metadata": {
            "tags": []
          },
          "execution_count": 59
        }
      ]
    },
    {
      "cell_type": "code",
      "metadata": {
        "colab": {
          "base_uri": "https://localhost:8080/"
        },
        "id": "gcX7b1g_ooC4",
        "outputId": "1e113c97-06e1-4e7d-ab60-9f26fd1f3336"
      },
      "source": [
        "nl =[]\n",
        "for x in range(2000,3200):\n",
        "  if (x%7==0) and (x%5==0):\n",
        "    nl.append(str(x))\n",
        "print(','.join(nl))"
      ],
      "execution_count": 61,
      "outputs": [
        {
          "output_type": "stream",
          "text": [
            "2030,2065,2100,2135,2170,2205,2240,2275,2310,2345,2380,2415,2450,2485,2520,2555,2590,2625,2660,2695,2730,2765,2800,2835,2870,2905,2940,2975,3010,3045,3080,3115,3150,3185\n"
          ],
          "name": "stdout"
        }
      ]
    },
    {
      "cell_type": "code",
      "metadata": {
        "colab": {
          "base_uri": "https://localhost:8080/"
        },
        "id": "XOk-33-c9QQI",
        "outputId": "c418dd90-8e21-41ed-9c5f-951f6a1b8820"
      },
      "source": [
        "#stemming \n",
        "from nltk.stem import PorterStemmer\n",
        "from nltk.tokenize import word_tokenize\n",
        "pst = PorterStemmer()\n",
        "words = [\"like\",\"liking\",\"likly\",\"likes\"]\n",
        "for i in words:\n",
        "  print(i,\" : \",pst.stem(i))"
      ],
      "execution_count": 3,
      "outputs": [
        {
          "output_type": "stream",
          "text": [
            "like  :  like\n",
            "liking  :  like\n",
            "likly  :  likli\n",
            "likes  :  like\n"
          ],
          "name": "stdout"
        }
      ]
    },
    {
      "cell_type": "code",
      "metadata": {
        "id": "E-xbEigL9QTT"
      },
      "source": [
        ""
      ],
      "execution_count": null,
      "outputs": []
    }
  ]
}